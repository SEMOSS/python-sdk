{
 "cells": [
  {
   "cell_type": "markdown",
   "metadata": {},
   "source": [
    "## AI Server SDK for Python"
   ]
  },
  {
   "cell_type": "markdown",
   "metadata": {},
   "source": [
    "### Install Dependencies"
   ]
  },
  {
   "cell_type": "code",
   "execution_count": null,
   "metadata": {},
   "outputs": [],
   "source": [
    "%pip install --upgrade ai-server-sdk\n",
    "%pip install python-dotenv"
   ]
  },
  {
   "cell_type": "markdown",
   "metadata": {},
   "source": [
    "## Server Connection & Insights"
   ]
  },
  {
   "cell_type": "markdown",
   "metadata": {},
   "source": [
    "### Creating the Server Connection"
   ]
  },
  {
   "cell_type": "code",
   "execution_count": null,
   "metadata": {},
   "outputs": [],
   "source": [
    "import os\n",
    "from ai_server import ServerClient\n",
    "from dotenv import load_dotenv\n",
    "\n",
    "load_dotenv('../.env')\n",
    "SECRET_KEY = os.getenv('DEV_SECRET_KEY')\n",
    "ACCESS_KEY = os.getenv('DEV_ACCESS_KEY')\n",
    "\n",
    "# Here we connect to the demo instance of CFG, but you would connect to your own instance\n",
    "connection_url = os.getenv('DEV_URL')\n",
    "\n",
    "# This object creates a connection to the CFG server\n",
    "server_connection = ServerClient(base = connection_url, access_key = ACCESS_KEY, secret_key = SECRET_KEY)\n",
    "\n",
    "# Check if you are connected to the server\n",
    "is_connected = server_connection.connected\n",
    "print(f\"Am I connected to the server? {is_connected}\")\n",
    "\n",
    "# Initilizing the server creates a new insight which is accessible through .cur_insight\n",
    "my_insight = server_connection.cur_insight\n",
    "print(f\"This is my current insight ID: {my_insight}\")"
   ]
  },
  {
   "cell_type": "markdown",
   "metadata": {},
   "source": [
    "### Create new insights"
   ]
  },
  {
   "cell_type": "code",
   "execution_count": null,
   "metadata": {},
   "outputs": [],
   "source": [
    "# You can create new insights by calling the .make_new_insight() method\n",
    "new_insight = server_connection.make_new_insight() # This becomes your active insight\n",
    "\n",
    "print(f\"My current insight is now: {server_connection.cur_insight}\")"
   ]
  },
  {
   "cell_type": "markdown",
   "metadata": {},
   "source": [
    "### Listing open insights"
   ]
  },
  {
   "cell_type": "code",
   "execution_count": null,
   "metadata": {},
   "outputs": [],
   "source": [
    "my_open_insights = server_connection.get_open_insights()\n",
    "\n",
    "print(f\"These are my open insights: {my_open_insights}\")"
   ]
  },
  {
   "cell_type": "markdown",
   "metadata": {},
   "source": [
    "### Dropping insights "
   ]
  },
  {
   "cell_type": "code",
   "execution_count": null,
   "metadata": {},
   "outputs": [],
   "source": [
    "# You can drop all of your insights with the .drop_insights() method and passing in the list of insights\n",
    "# Here we drop all of our open insight ids \n",
    "server_connection.drop_insights(my_open_insights) # This will create a new insight id since there must be an active insight\n",
    "\n",
    "print(f\"Here are my insight IDs after dropping: {server_connection.get_open_insights()}\")"
   ]
  },
  {
   "cell_type": "markdown",
   "metadata": {},
   "source": [
    "### Python trick to check attributes"
   ]
  },
  {
   "cell_type": "code",
   "execution_count": null,
   "metadata": {},
   "outputs": [],
   "source": [
    "attributes = dir(server_connection)\n",
    "# Find all of the attributes available to the server connection object\n",
    "attributes = [attr for attr in attributes if not attr.startswith('__')]\n",
    "\n",
    "print(f\"Here are the attributes of the server connection object: {attributes}\")"
   ]
  },
  {
   "cell_type": "markdown",
   "metadata": {},
   "source": [
    "## ModelEngine"
   ]
  },
  {
   "cell_type": "markdown",
   "metadata": {},
   "source": [
    "### Basic Inferencing"
   ]
  },
  {
   "cell_type": "code",
   "execution_count": null,
   "metadata": {},
   "outputs": [],
   "source": [
    "from ai_server import ModelEngine\n",
    "\n",
    "# An ID for the specific LLM you want to interact with\n",
    "llm_id = \"4acbe913-df40-4ac0-b28a-daa5ad91b172\"\n",
    "\n",
    "# We need to pass the engine id and an insight id to the ModelEngine object\n",
    "llm = ModelEngine(engine_id=llm_id, insight_id = server_connection.cur_insight)\n",
    "\n",
    "question = \"What weighs more, a pound of feathers or a pound of bricks?\"\n",
    "\n",
    "# The ask method sends a question to the model and returns the response\n",
    "try:\n",
    "    answer = llm.ask(question)\n",
    "except Exception as e:\n",
    "    print(f\"An error occured: {e}\")\n",
    "\n",
    "print(answer['response'])\n",
    "\n",
    "print(\"We also get acess to: \")\n",
    "print(f\"messageId: {answer['messageId']}\")\n",
    "print(f\"roomId: {answer['roomId']}\")\n",
    "print(f\"numberOfTokensInPrompt\", answer['numberOfTokensInPrompt'])\n",
    "print(f\"numberOfTokensInResponse\", answer['numberOfTokensInResponse'])\n"
   ]
  },
  {
   "cell_type": "markdown",
   "metadata": {},
   "source": [
    "### Advanced Inferencing with parameters"
   ]
  },
  {
   "cell_type": "code",
   "execution_count": null,
   "metadata": {},
   "outputs": [],
   "source": [
    "# We can add parameters to our requests such as context, history, max_new_tokens, repetition_penalty, seed, temperature, top_k, top_p, truncate, typical_p\n",
    "params = {\n",
    "    \"temperature\": 0.9, \n",
    "    \"max_new_tokens\": 200,\n",
    "    \"context\": \"You are a first grade teacher that uses language and explanations easy for children to understand.\"\n",
    "    }\n",
    "\n",
    "# Pass your parameters as a dictionary to the ask method using the param_dict argument\n",
    "new_answer = llm.ask(question, param_dict=params)\n",
    "\n",
    "print(new_answer['response'])"
   ]
  },
  {
   "cell_type": "markdown",
   "metadata": {},
   "source": [
    "### Using chat history"
   ]
  },
  {
   "cell_type": "code",
   "execution_count": null,
   "metadata": {},
   "outputs": [],
   "source": [
    "\n",
    "# We can pass our own history to the ask method\n",
    "# You can use as many dictionaries as you want in the history list but each one will add tokens to the request\n",
    "history = [\n",
    "    {\"role\": \"user\", \"content\": question},\n",
    "    {\"role\": \"assistant\", \"content\": new_answer['response']}\n",
    "]\n",
    "\n",
    "# Here we change the context to a college professor and pass our chat history\n",
    "params = {\n",
    "    \"temperature\": 0.9, \n",
    "    \"max_new_tokens\": 200,\n",
    "    \"context\": \"You are college professor who provides complex answers backed by science.\",\n",
    "    \"history\": history\n",
    "}\n",
    "\n",
    "# Our new question references the chat history\n",
    "new_question = \"Can you explain your previous answer in more detail?\"\n",
    "\n",
    "new_answer = llm.ask(new_question, params)\n",
    "\n",
    "print(new_answer['response'])"
   ]
  },
  {
   "cell_type": "markdown",
   "metadata": {},
   "source": [
    "## VectorEngine"
   ]
  },
  {
   "cell_type": "markdown",
   "metadata": {},
   "source": [
    "### Adding documents"
   ]
  },
  {
   "cell_type": "code",
   "execution_count": null,
   "metadata": {},
   "outputs": [],
   "source": [
    "from ai_server import VectorEngine\n",
    "\n",
    "# Using a FAISS vector engine\n",
    "vector_engine_id = '1222b449-1bc6-4358-9398-1ed828e4f26a'\n",
    "\n",
    "# We initialize the VectorEngine object with the engine id and the current insight id\n",
    "faiss_vector_engine = VectorEngine(engine_id=vector_engine_id, insight_id=server_connection.cur_insight)\n",
    "\n",
    "file_path = \"./ai-whitehouse.pdf\"\n",
    "\n",
    "# We can add documents to the faiss index with the addDocument method\n",
    "faiss_vector_engine.addDocument(file_paths = [file_path])"
   ]
  },
  {
   "cell_type": "markdown",
   "metadata": {},
   "source": [
    "### Listing uploaded documents"
   ]
  },
  {
   "cell_type": "code",
   "execution_count": null,
   "metadata": {},
   "outputs": [],
   "source": [
    "# Fetch a list of uploaded documents\n",
    "my_documents = faiss_vector_engine.listDocuments()\n",
    "\n",
    "print(my_documents)"
   ]
  },
  {
   "cell_type": "markdown",
   "metadata": {},
   "source": [
    "### Performing a nearest neighbor search"
   ]
  },
  {
   "cell_type": "code",
   "execution_count": null,
   "metadata": {},
   "outputs": [],
   "source": [
    "query = \"How does the document define machine learning?\"\n",
    "\n",
    "# Find the closest match(es) between the question bassed in and the embedded documents using Euclidena Distance.\n",
    "nearest_neighbor = faiss_vector_engine.nearestNeighbor(search_statement=query, limit = 3, insight_id = server_connection.cur_insight)\n",
    "\n",
    "for index, result in enumerate(nearest_neighbor):\n",
    "    print(f\"Result {index + 1}\")\n",
    "    print(f\"SCORE: {result['Score']}\")\n",
    "    print(f\"TOKENS: {result['Tokens']}\")\n",
    "    print(f\"CONTENT: {result['Content']}\")"
   ]
  },
  {
   "cell_type": "markdown",
   "metadata": {},
   "source": [
    "### Removing documents"
   ]
  },
  {
   "cell_type": "code",
   "execution_count": null,
   "metadata": {},
   "outputs": [],
   "source": [
    "# Names of the files we want to remove\n",
    "file_names = ['ai-whitehouse.pdf']\n",
    "\n",
    "faiss_vector_engine.removeDocument(file_names = file_names)\n",
    "\n",
    "print(faiss_vector_engine.listDocuments())"
   ]
  },
  {
   "cell_type": "markdown",
   "metadata": {},
   "source": [
    "## DatabaseEngine"
   ]
  },
  {
   "cell_type": "markdown",
   "metadata": {},
   "source": [
    "### Querying a database"
   ]
  },
  {
   "cell_type": "code",
   "execution_count": null,
   "metadata": {},
   "outputs": [],
   "source": [
    "from ai_server import DatabaseEngine\n",
    "\n",
    "# An example H2 diabetes database\n",
    "db_engine_id = \"950eb187-e352-444d-ad6a-6476ed9390af\"\n",
    "\n",
    "# Connect to the database by passing the engine id and the current insight id\n",
    "db = DatabaseEngine(engine_id=db_engine_id, insight_id=server_connection.cur_insight)\n",
    "\n",
    "query = db.execQuery(query = \"SELECT height, weight, location FROM diabetes WHERE height < 62 AND weight > 200\")\n",
    "\n",
    "print(query)"
   ]
  },
  {
   "cell_type": "markdown",
   "metadata": {},
   "source": [
    "### Inserting data"
   ]
  },
  {
   "cell_type": "code",
   "execution_count": null,
   "metadata": {},
   "outputs": [],
   "source": [
    "insert = \"INSERT INTO diabetes (height, weight, location) VALUES (65, 200, 'Rosslyn')\"\n",
    "\n",
    "# NOTE you will need to be an author or editor of the database to insert or delete data\n",
    "db.insertData(query = insert)\n",
    "\n",
    "query = db.execQuery(query = \"SELECT height, weight, location FROM diabetes WHERE location = 'Rosslyn'\")\n",
    "\n",
    "print(query)"
   ]
  },
  {
   "cell_type": "markdown",
   "metadata": {},
   "source": [
    "### Deleting data"
   ]
  },
  {
   "cell_type": "code",
   "execution_count": null,
   "metadata": {},
   "outputs": [],
   "source": [
    "remove = \"DELETE FROM diabetes WHERE location = 'Rosslyn'\"\n",
    "\n",
    "db.removeData(query = remove)\n",
    "\n",
    "query = db.execQuery(query = \"SELECT height, weight, location FROM diabetes WHERE location = 'Rosslyn'\")\n",
    "\n",
    "print(query)"
   ]
  },
  {
   "cell_type": "markdown",
   "metadata": {},
   "source": [
    "## FunctionEngine"
   ]
  },
  {
   "cell_type": "code",
   "execution_count": null,
   "metadata": {},
   "outputs": [],
   "source": [
    "from ai_server import FunctionEngine\n",
    "\n",
    "# Weather function engine\n",
    "weather_id = '1563ddbb-2f77-4094-93f4-083431f15cbc'\n",
    "\n",
    "function = FunctionEngine(engine_id=weather_id, insight_id=server_connection.cur_insight)\n",
    "\n",
    "# Parameters will change based on the function you are using\n",
    "output = function.execute({\"lat\":\"37.540\",\"lon\":\"77.4360\"})\n",
    "\n",
    "print(output)"
   ]
  },
  {
   "cell_type": "markdown",
   "metadata": {},
   "source": [
    "## StorageEngine"
   ]
  },
  {
   "cell_type": "markdown",
   "metadata": {},
   "source": [
    "### Listing Files"
   ]
  },
  {
   "cell_type": "code",
   "execution_count": null,
   "metadata": {},
   "outputs": [],
   "source": [
    "from ai_server import StorageEngine\n",
    "\n",
    "# Example S3 bucket\n",
    "storage_engine_id = \"2d905aa3-b703-4c98-8133-5bcaefddac1e\"\n",
    "\n",
    "storageEngine = StorageEngine(engine_id = storage_engine_id, insight_id = server_connection.cur_insight)\n",
    "\n",
    "s3_storage_path = \"/my-new-test-folder/\"\n",
    "\n",
    "# A list of the files in the given path\n",
    "my_dir = storageEngine.list(storagePath = s3_storage_path)\n",
    "\n",
    "for file in my_dir:\n",
    "    print (f\"-- {file}\")\n",
    "\n",
    "# A list of details about the files in the given path\n",
    "my_dir_details = storageEngine.listDetails(storagePath = '/my-new-test-folder/')\n",
    "\n",
    "for file_details in my_dir_details:\n",
    "    print (f\"-- {file_details}\")\n"
   ]
  },
  {
   "cell_type": "markdown",
   "metadata": {},
   "source": [
    "## Running Pixels"
   ]
  },
  {
   "cell_type": "code",
   "execution_count": null,
   "metadata": {},
   "outputs": [],
   "source": [
    "# You can use the active server connection to run pixels\n",
    "\n",
    "simple_pixel_response = server_connection.run_pixel('1+1')\n",
    "\n",
    "print('Simple Response --')\n",
    "print(simple_pixel_response)\n",
    "\n",
    "full_pixel_response = server_connection.run_pixel('1+1', full_response=True)\n",
    "\n",
    "print('Full Response --')\n",
    "print(full_pixel_response)"
   ]
  },
  {
   "cell_type": "markdown",
   "metadata": {},
   "source": [
    "### LLM Chat with pixels example"
   ]
  },
  {
   "cell_type": "code",
   "execution_count": null,
   "metadata": {},
   "outputs": [],
   "source": [
    "\n",
    "llm_id = \"4acbe913-df40-4ac0-b28a-daa5ad91b172\"\n",
    "\n",
    "chat = server_connection.run_pixel(\n",
    "    f\"LLM ( engine = [ '{llm_id}' ] , command = [ '<encode>What is the capital of Connecticut</encode>' ] , paramValues = [ {{ 'max_new_tokens' : 200 , 'temperature' : 0.3 }} ] )\"\n",
    ")\n",
    "print(chat)"
   ]
  }
 ],
 "metadata": {
  "kernelspec": {
   "display_name": ".venv",
   "language": "python",
   "name": "python3"
  },
  "language_info": {
   "codemirror_mode": {
    "name": "ipython",
    "version": 3
   },
   "file_extension": ".py",
   "mimetype": "text/x-python",
   "name": "python",
   "nbconvert_exporter": "python",
   "pygments_lexer": "ipython3",
   "version": "3.12.9"
  }
 },
 "nbformat": 4,
 "nbformat_minor": 2
}
