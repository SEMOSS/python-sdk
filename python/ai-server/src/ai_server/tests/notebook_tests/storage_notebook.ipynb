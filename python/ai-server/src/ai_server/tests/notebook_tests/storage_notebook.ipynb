{
 "cells": [
  {
   "cell_type": "markdown",
   "metadata": {},
   "source": [
    "### StorageEngine Examples"
   ]
  },
  {
   "cell_type": "markdown",
   "metadata": {},
   "source": [
    "Initialize ServerConnection"
   ]
  },
  {
   "cell_type": "code",
   "execution_count": 2,
   "metadata": {},
   "outputs": [
    {
     "name": "stdout",
     "output_type": "stream",
     "text": [
      "Am I connected to the server? True\n"
     ]
    }
   ],
   "source": [
    "from ai_server.server_resources.server_client import ServerClient\n",
    "import os\n",
    "from dotenv import load_dotenv\n",
    "\n",
    "load_dotenv('../.env')\n",
    "SECRET_KEY = os.getenv('DEV_SECRET_KEY')\n",
    "ACCESS_KEY = os.getenv('DEV_ACCESS_KEY')\n",
    "\n",
    "connection_url = os.getenv('DEV_ENDPOINT')\n",
    "server_connection = ServerClient(base = connection_url, access_key = ACCESS_KEY, secret_key = SECRET_KEY)\n",
    "\n",
    "is_connected = server_connection.connected\n",
    "print(f\"Am I connected to the server? {is_connected}\")"
   ]
  },
  {
   "cell_type": "markdown",
   "metadata": {},
   "source": [
    "Initialize the StorageEngine"
   ]
  },
  {
   "cell_type": "code",
   "execution_count": 3,
   "metadata": {},
   "outputs": [],
   "source": [
    "from ai_server.py_client.gaas.storage import StorageEngine\n",
    "\n",
    "storage_engine_ID = os.getenv('DEV_STORAGE_ENGINE_ID')\n",
    "\n",
    "storage = StorageEngine(engine_id=storage_engine_ID, insight_id=server_connection.cur_insight)"
   ]
  },
  {
   "cell_type": "markdown",
   "metadata": {},
   "source": [
    "List the files in a given path in the storage engine"
   ]
  },
  {
   "cell_type": "code",
   "execution_count": 4,
   "metadata": {},
   "outputs": [
    {
     "name": "stdout",
     "output_type": "stream",
     "text": [
      "Files in the path /my-new-test-folder/: ['machine-readable-business-employment-data-mar-2024-quarter.csv', 'version/']\n"
     ]
    }
   ],
   "source": [
    "s3_storage_path = \"/my-new-test-folder/\"\n",
    "my_files = storage.list(storagePath=s3_storage_path)\n",
    "\n",
    "print(f\"Files in the path {s3_storage_path}: {my_files}\")"
   ]
  },
  {
   "cell_type": "markdown",
   "metadata": {},
   "source": [
    "List the files in a given path in the storage engine with extra details"
   ]
  },
  {
   "cell_type": "code",
   "execution_count": 5,
   "metadata": {},
   "outputs": [
    {
     "name": "stdout",
     "output_type": "stream",
     "text": [
      "Files in the path /my-new-test-folder/ with details: [{'Path': 'machine-readable-business-employment-data-mar-2024-quarter.csv', 'Name': 'machine-readable-business-employment-data-mar-2024-quarter.csv', 'Size': 3583192.0, 'MimeType': 'text/csv; charset=utf-8', 'ModTime': '2024-06-13T19:11:49.768746813Z', 'IsDir': False, 'Tier': 'STANDARD', 'Metadata': {'atime': '2024-06-13T19:11:49.768746813Z', 'btime': '2024-11-01T21:28:04Z', 'content-type': 'text/csv; charset=utf-8', 'gid': '0', 'mode': '100640', 'mtime': '2024-06-13T19:11:49.768746813Z', 'tier': 'STANDARD', 'uid': '0'}}, {'Path': 'version', 'Name': 'version', 'Size': 0.0, 'MimeType': 'inode/directory', 'ModTime': '2000-01-01T00:00:00.000000000Z', 'IsDir': True}]\n"
     ]
    }
   ],
   "source": [
    "my_file_details = storage.listDetails(storagePath=\"/my-new-test-folder/\")\n",
    "\n",
    "print(f\"Files in the path {s3_storage_path} with details: {my_file_details}\")"
   ]
  },
  {
   "cell_type": "markdown",
   "metadata": {},
   "source": [
    "Copy a file/folder from your insight/project/user space to the storage engine  \n",
    "Space can be \"insight\", \"user\" or a \"project_id\""
   ]
  },
  {
   "cell_type": "code",
   "execution_count": 6,
   "metadata": {},
   "outputs": [
    {
     "name": "stdout",
     "output_type": "stream",
     "text": [
      "Files in the path /my-new-test-folder/: ['machine-readable-business-employment-data-mar-2024-quarter.csv', 'version/']\n"
     ]
    }
   ],
   "source": [
    "storage.copyToStorage(\n",
    "    storagePath=\"/my-new-test-folder/\",\n",
    "    localPath=\"/\",\n",
    "    space=\"user\"\n",
    ")\n",
    "\n",
    "print(f\"Files in the path {s3_storage_path}: {my_files}\")"
   ]
  },
  {
   "cell_type": "markdown",
   "metadata": {},
   "source": [
    "Copy a file/folder from the storage engine to your insight/project/user space"
   ]
  },
  {
   "cell_type": "code",
   "execution_count": 7,
   "metadata": {},
   "outputs": [
    {
     "data": {
      "text/plain": [
       "True"
      ]
     },
     "execution_count": 7,
     "metadata": {},
     "output_type": "execute_result"
    }
   ],
   "source": [
    "storage.copyToLocal(\n",
    "    storagePath=\"/my-new-test-folder/\",\n",
    "    localPath=\"/\",\n",
    "    space=\"user\"\n",
    ")"
   ]
  },
  {
   "cell_type": "markdown",
   "metadata": {},
   "source": [
    "Sync your local folder with the storage engine"
   ]
  },
  {
   "cell_type": "code",
   "execution_count": 8,
   "metadata": {},
   "outputs": [
    {
     "data": {
      "text/plain": [
       "True"
      ]
     },
     "execution_count": 8,
     "metadata": {},
     "output_type": "execute_result"
    }
   ],
   "source": [
    "storage.syncStorageToLocal(\n",
    "    storagePath=\"/my-new-test-folder/\",\n",
    "    localPath=\"/\",\n",
    "    space=\"user\"\n",
    ")"
   ]
  },
  {
   "cell_type": "markdown",
   "metadata": {},
   "source": [
    "Sync the storage engine with your local folder"
   ]
  },
  {
   "cell_type": "code",
   "execution_count": 9,
   "metadata": {},
   "outputs": [
    {
     "data": {
      "text/plain": [
       "True"
      ]
     },
     "execution_count": 9,
     "metadata": {},
     "output_type": "execute_result"
    }
   ],
   "source": [
    "storage.syncLocalToStorage(\n",
    "    storagePath=\"/my-new-test-folder/\",\n",
    "    localPath=\"/\",\n",
    "    space=\"user\"\n",
    ")"
   ]
  },
  {
   "cell_type": "markdown",
   "metadata": {},
   "source": [
    "Delete a file/folder from the storage engine"
   ]
  },
  {
   "cell_type": "code",
   "execution_count": 10,
   "metadata": {},
   "outputs": [
    {
     "data": {
      "text/plain": [
       "True"
      ]
     },
     "execution_count": 10,
     "metadata": {},
     "output_type": "execute_result"
    }
   ],
   "source": [
    "storage.deleteFromStorage(\n",
    "    storagePath=\"/my-new-test-folder/\",\n",
    "    leaveFolderStructure=True\n",
    ")"
   ]
  }
 ],
 "metadata": {
  "kernelspec": {
   "display_name": "3.11.9",
   "language": "python",
   "name": "python3"
  },
  "language_info": {
   "codemirror_mode": {
    "name": "ipython",
    "version": 3
   },
   "file_extension": ".py",
   "mimetype": "text/x-python",
   "name": "python",
   "nbconvert_exporter": "python",
   "pygments_lexer": "ipython3",
   "version": "3.11.9"
  }
 },
 "nbformat": 4,
 "nbformat_minor": 2
}
