{
 "cells": [
  {
   "cell_type": "markdown",
   "metadata": {},
   "source": [
    "### StorageEngine Examples"
   ]
  },
  {
   "cell_type": "markdown",
   "metadata": {},
   "source": [
    "Initialize ServerConnection"
   ]
  },
  {
   "cell_type": "code",
   "execution_count": null,
   "metadata": {},
   "outputs": [],
   "source": [
    "from ai_server.server_resources.server_client import ServerClient\n",
    "import os\n",
    "from dotenv import load_dotenv\n",
    "\n",
    "load_dotenv('../.env')\n",
    "SECRET_KEY = os.getenv('SECRET_KEY')\n",
    "ACCESS_KEY = os.getenv('ACCESS_KEY')\n",
    "\n",
    "connection_url = 'https://workshop.cfg.deloitte.com/cfg-ai-dev/Monolith/api'\n",
    "server_connection = ServerClient(base = connection_url, access_key = ACCESS_KEY, secret_key = SECRET_KEY)\n",
    "\n",
    "is_connected = server_connection.connected\n",
    "print(f\"Am I connected to the server? {is_connected}\")"
   ]
  },
  {
   "cell_type": "markdown",
   "metadata": {},
   "source": [
    "Initialize the StorageEngine"
   ]
  },
  {
   "cell_type": "code",
   "execution_count": null,
   "metadata": {},
   "outputs": [],
   "source": [
    "from ai_server.py_client.gaas.storage import StorageEngine\n",
    "# Enter your own engine_id\n",
    "storage = StorageEngine(engine_id=\"2d905aa3-b703-4c98-8133-5bcaefddac1e\", insight_id=server_connection.cur_insight)"
   ]
  },
  {
   "cell_type": "markdown",
   "metadata": {},
   "source": [
    "List the files in a given path in the storage engine"
   ]
  },
  {
   "cell_type": "code",
   "execution_count": null,
   "metadata": {},
   "outputs": [],
   "source": [
    "s3_storage_path = \"/my-new-test-folder/\"\n",
    "my_files = storage.list(storagePath=s3_storage_path)\n",
    "\n",
    "print(f\"Files in the path {s3_storage_path}: {my_files}\")"
   ]
  },
  {
   "cell_type": "markdown",
   "metadata": {},
   "source": [
    "List the files in a given path in the storage engine with extra details"
   ]
  },
  {
   "cell_type": "code",
   "execution_count": null,
   "metadata": {},
   "outputs": [],
   "source": [
    "my_file_details = storage.listDetails(storagePath=\"/my-new-test-folder/\")\n",
    "\n",
    "print(f\"Files in the path {s3_storage_path} with details: {my_file_details}\")"
   ]
  },
  {
   "cell_type": "markdown",
   "metadata": {},
   "source": [
    "Copy a file/folder from your insight/project/user space to the storage engine  \n",
    "Space can be \"insight\", \"user\" or a \"project_id\""
   ]
  },
  {
   "cell_type": "code",
   "execution_count": null,
   "metadata": {},
   "outputs": [],
   "source": [
    "storage.copyToStorage(\n",
    "    storagePath=\"/my-new-test-folder/\",\n",
    "    localPath=\"/\",\n",
    "    space=\"user\"\n",
    ")\n",
    "\n",
    "print(f\"Files in the path {s3_storage_path}: {my_files}\")"
   ]
  },
  {
   "cell_type": "markdown",
   "metadata": {},
   "source": [
    "Copy a file/folder from the storage engine to your insight/project/user space"
   ]
  },
  {
   "cell_type": "code",
   "execution_count": null,
   "metadata": {},
   "outputs": [],
   "source": [
    "storage.copyToLocal(\n",
    "    storagePath=\"/my-new-test-folder/\",\n",
    "    localPath=\"/\",\n",
    "    space=\"user\"\n",
    ")"
   ]
  },
  {
   "cell_type": "markdown",
   "metadata": {},
   "source": [
    "Sync your local folder with the storage engine"
   ]
  },
  {
   "cell_type": "code",
   "execution_count": null,
   "metadata": {},
   "outputs": [],
   "source": [
    "storage.syncStorageToLocal(\n",
    "    storagePath=\"/my-new-test-folder/\",\n",
    "    localPath=\"/\",\n",
    "    space=\"user\"\n",
    ")"
   ]
  },
  {
   "cell_type": "markdown",
   "metadata": {},
   "source": [
    "Sync the storage engine with your local folder"
   ]
  },
  {
   "cell_type": "code",
   "execution_count": null,
   "metadata": {},
   "outputs": [],
   "source": [
    "storage.syncLocalToStorage(\n",
    "    storagePath=\"/my-new-test-folder/\",\n",
    "    localPath=\"/\",\n",
    "    space=\"user\"\n",
    ")"
   ]
  },
  {
   "cell_type": "markdown",
   "metadata": {},
   "source": [
    "Delete a file/folder from the storage engine"
   ]
  },
  {
   "cell_type": "code",
   "execution_count": null,
   "metadata": {},
   "outputs": [],
   "source": [
    "storage.deleteFromStorage(\n",
    "    storagePath=\"/my-new-test-folder/\",\n",
    "    leaveFolderStructure=True\n",
    ")"
   ]
  }
 ],
 "metadata": {
  "kernelspec": {
   "display_name": "sdk-development",
   "language": "python",
   "name": "python3"
  },
  "language_info": {
   "codemirror_mode": {
    "name": "ipython",
    "version": 3
   },
   "file_extension": ".py",
   "mimetype": "text/x-python",
   "name": "python",
   "nbconvert_exporter": "python",
   "pygments_lexer": "ipython3",
   "version": "3.11.9"
  }
 },
 "nbformat": 4,
 "nbformat_minor": 2
}
